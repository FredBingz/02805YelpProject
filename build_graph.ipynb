{
 "cells": [
  {
   "cell_type": "code",
   "execution_count": 4,
   "metadata": {},
   "outputs": [],
   "source": [
    "import os\n",
    "import pandas as pd\n",
    "import networkx as nx\n",
    "import json\n",
    "from collections import Counter\n",
    "from itertools import combinations\n",
    "import matplotlib.pyplot as plt\n",
    "import community.community_louvain as community_louvain\n",
    "from fa2_modified import ForceAtlas2\n",
    "import re\n",
    "import numpy as np"
   ]
  },
  {
   "cell_type": "code",
   "execution_count": null,
   "metadata": {},
   "outputs": [],
   "source": [
    "\"\"\"\n",
    "# Step 1: Count the number of reviews per user\n",
    "with open('yelp_academic_dataset_review.json', 'r') as f:\n",
    "    user_counts = Counter(json.loads(line)['user_id'] for line in f)\n",
    "\n",
    "# Step 2: Filter and sort the lines, removing users with fewer than 5 reviews\n",
    "with open('yelp_academic_dataset_review.json', 'r') as f, open('sorted_review_file.json', 'w') as out_f:\n",
    "    lines = [json.loads(line) for line in f if user_counts[json.loads(line)['user_id']] == 20]\n",
    "    lines.sort(key=lambda x: (x['business_id']))\n",
    "\n",
    "    # Write sorted and filtered data to the new file\n",
    "    for line in lines:\n",
    "        out_f.write(json.dumps(line) + \"\\n\")\n",
    "        print(line) \n",
    "\"\"\""
   ]
  },
  {
   "cell_type": "code",
   "execution_count": null,
   "metadata": {},
   "outputs": [],
   "source": [
    "\"\"\"number_of_reviews = 20\n",
    "count_users_reviews = sum(count == number_of_reviews for count in user_counts.values())\n",
    "print(f'Number of users that has reviewed {number_of_reviews} times: {count_users_reviews}')\"\"\""
   ]
  },
  {
   "cell_type": "code",
   "execution_count": 5,
   "metadata": {},
   "outputs": [],
   "source": [
    "df = pd.read_json(f'data/sorted_review_data.json', lines=True)\n",
    "chunk = df.copy()\n",
    "#chunk.to_csv(f'Files/yelp_academic_dataset_review_small.csv', index=False)"
   ]
  },
  {
   "cell_type": "code",
   "execution_count": 6,
   "metadata": {},
   "outputs": [
    {
     "data": {
      "text/html": [
       "<div>\n",
       "<style scoped>\n",
       "    .dataframe tbody tr th:only-of-type {\n",
       "        vertical-align: middle;\n",
       "    }\n",
       "\n",
       "    .dataframe tbody tr th {\n",
       "        vertical-align: top;\n",
       "    }\n",
       "\n",
       "    .dataframe thead th {\n",
       "        text-align: right;\n",
       "    }\n",
       "</style>\n",
       "<table border=\"1\" class=\"dataframe\">\n",
       "  <thead>\n",
       "    <tr style=\"text-align: right;\">\n",
       "      <th></th>\n",
       "      <th>review_id</th>\n",
       "      <th>user_id</th>\n",
       "      <th>business_id</th>\n",
       "      <th>stars</th>\n",
       "      <th>useful</th>\n",
       "      <th>funny</th>\n",
       "      <th>cool</th>\n",
       "      <th>text</th>\n",
       "      <th>date</th>\n",
       "    </tr>\n",
       "  </thead>\n",
       "  <tbody>\n",
       "    <tr>\n",
       "      <th>0</th>\n",
       "      <td>T5442QeVY13MWJuKbvtgnQ</td>\n",
       "      <td>6SoUQtbIltsun0IIGqWTqA</td>\n",
       "      <td>---kPU91CF4Lq2-WlRu9Lw</td>\n",
       "      <td>4</td>\n",
       "      <td>0</td>\n",
       "      <td>0</td>\n",
       "      <td>0</td>\n",
       "      <td>Excellent food and service. Portions are a lit...</td>\n",
       "      <td>2021-11-28 16:40:02</td>\n",
       "    </tr>\n",
       "    <tr>\n",
       "      <th>1</th>\n",
       "      <td>c0PMuZecG8uKZpzlYEs36Q</td>\n",
       "      <td>QM3cNh-u31Z5alYC3h1RnA</td>\n",
       "      <td>--FcbSxK1AoEtEAxOgBaCw</td>\n",
       "      <td>1</td>\n",
       "      <td>1</td>\n",
       "      <td>1</td>\n",
       "      <td>0</td>\n",
       "      <td>I used to come here quite frequently but never...</td>\n",
       "      <td>2018-05-13 13:12:18</td>\n",
       "    </tr>\n",
       "    <tr>\n",
       "      <th>2</th>\n",
       "      <td>S8-rmUixe0CANmCMblYl2A</td>\n",
       "      <td>qi6OJ4D1e_T_AUQGHtadvA</td>\n",
       "      <td>--MbOh2O1pATkXa7xbU6LA</td>\n",
       "      <td>4</td>\n",
       "      <td>1</td>\n",
       "      <td>0</td>\n",
       "      <td>0</td>\n",
       "      <td>For what it is, they make a solid product.  Li...</td>\n",
       "      <td>2013-04-14 22:31:08</td>\n",
       "    </tr>\n",
       "    <tr>\n",
       "      <th>3</th>\n",
       "      <td>dAoF6rmPQY72tejRqEwDKA</td>\n",
       "      <td>qgLwRvE6JkK_KnbuT5AKmA</td>\n",
       "      <td>--O3ip9NpXTKD4oBS1pY2A</td>\n",
       "      <td>4</td>\n",
       "      <td>7</td>\n",
       "      <td>2</td>\n",
       "      <td>3</td>\n",
       "      <td>There are only a few Kid Friendly places in Sa...</td>\n",
       "      <td>2017-02-11 18:55:08</td>\n",
       "    </tr>\n",
       "    <tr>\n",
       "      <th>4</th>\n",
       "      <td>fqWMiA-8VpG-eTuF1YzZGQ</td>\n",
       "      <td>4lng77gRdpRb24o91sSihA</td>\n",
       "      <td>--S43ruInmIsGrnnkmavRw</td>\n",
       "      <td>3</td>\n",
       "      <td>3</td>\n",
       "      <td>1</td>\n",
       "      <td>1</td>\n",
       "      <td>While I liked the layout and some of the selec...</td>\n",
       "      <td>2015-03-22 23:56:41</td>\n",
       "    </tr>\n",
       "  </tbody>\n",
       "</table>\n",
       "</div>"
      ],
      "text/plain": [
       "                review_id                 user_id             business_id  \\\n",
       "0  T5442QeVY13MWJuKbvtgnQ  6SoUQtbIltsun0IIGqWTqA  ---kPU91CF4Lq2-WlRu9Lw   \n",
       "1  c0PMuZecG8uKZpzlYEs36Q  QM3cNh-u31Z5alYC3h1RnA  --FcbSxK1AoEtEAxOgBaCw   \n",
       "2  S8-rmUixe0CANmCMblYl2A  qi6OJ4D1e_T_AUQGHtadvA  --MbOh2O1pATkXa7xbU6LA   \n",
       "3  dAoF6rmPQY72tejRqEwDKA  qgLwRvE6JkK_KnbuT5AKmA  --O3ip9NpXTKD4oBS1pY2A   \n",
       "4  fqWMiA-8VpG-eTuF1YzZGQ  4lng77gRdpRb24o91sSihA  --S43ruInmIsGrnnkmavRw   \n",
       "\n",
       "   stars  useful  funny  cool  \\\n",
       "0      4       0      0     0   \n",
       "1      1       1      1     0   \n",
       "2      4       1      0     0   \n",
       "3      4       7      2     3   \n",
       "4      3       3      1     1   \n",
       "\n",
       "                                                text                date  \n",
       "0  Excellent food and service. Portions are a lit... 2021-11-28 16:40:02  \n",
       "1  I used to come here quite frequently but never... 2018-05-13 13:12:18  \n",
       "2  For what it is, they make a solid product.  Li... 2013-04-14 22:31:08  \n",
       "3  There are only a few Kid Friendly places in Sa... 2017-02-11 18:55:08  \n",
       "4  While I liked the layout and some of the selec... 2015-03-22 23:56:41  "
      ]
     },
     "execution_count": 6,
     "metadata": {},
     "output_type": "execute_result"
    }
   ],
   "source": [
    "chunk.head()"
   ]
  },
  {
   "cell_type": "code",
   "execution_count": 15,
   "metadata": {},
   "outputs": [
    {
     "name": "stdout",
     "output_type": "stream",
     "text": [
      "Number of reviews =  60480\n",
      "Number of users: 3024\n",
      "Number of businesses: 31533\n"
     ]
    }
   ],
   "source": [
    "# number of reviews\n",
    "print(\"Number of reviews = \", len(chunk))\n",
    "# find distinct users and businesses\n",
    "users = chunk['user_id'].unique()\n",
    "businesses = chunk['business_id'].unique()\n",
    "\n",
    "print(f'Number of users: {len(users)}')\n",
    "print(f'Number of businesses: {len(businesses)}')"
   ]
  },
  {
   "cell_type": "code",
   "execution_count": 8,
   "metadata": {},
   "outputs": [],
   "source": [
    "# Group by business_id and collect user_ids for each business\n",
    "business_groups = df.groupby('business_id')['user_id'].apply(list)\n",
    "\n",
    "# Initialize an empty graph\n",
    "G = nx.Graph()\n",
    "\n",
    "# Iterate through each group of users who reviewed the same business\n",
    "for users in business_groups:\n",
    "    # Add edges between all pairs of users for the same business\n",
    "    for user1, user2 in combinations(users, 2):\n",
    "        if user1 != user2:  # Ensure no self-loops\n",
    "            if G.has_edge(user1, user2):\n",
    "                # Increment weight if edge already exists\n",
    "                G[user1][user2]['weight'] += 1\n",
    "            else:\n",
    "                # Create an edge with weight=1 if it doesn't exist\n",
    "                G.add_edge(user1, user2, weight=1)\n",
    "                \n",
    "# make each review a user have made a node attribute\n",
    "user_reviews = df.groupby('user_id')['review_id'].apply(list).to_dict()\n",
    "nx.set_node_attributes(G, user_reviews, 'reviews')"
   ]
  },
  {
   "cell_type": "markdown",
   "metadata": {},
   "source": [
    "For the project, the greatest connected component (GCC) of the reviewer network is utilized, to build a strong foundation for the subsequent analysis. The GCC represents the largest, most cohesive subset of the graph, where all nodes are interconnected through shared business reviews. By centering the analysis on this component, the assumed advantages are listed below.\n",
    "\n",
    "Firstly, the GCC encapsulates the core structure of the network, where the majority of interactions and relationships occur. This provides a clearer lens into the most relevant and active portions of the graph, avoiding noise from isolated nodes or small, disconnected components. Additionally, working with the GCC simplifies computational complexity by eliminating disconnected subgraphs, which can hinder the performance of algorithmic approaches applied in later stages of the project. The GCC allows for meaningful analysis of global network properties like degree distributions and clustering, which rely on connectivity to produce interpretable results. Focusing on this component also facilitates cleaner and more effective visualizations, highlighting large-scale patterns and dominant community structures without being cluttered by disconnected nodes.\n",
    "\n",
    "While this approach may exclude smaller subgraphs, these disconnected components often represent niche interactions that can be analyzed separately for insights into outliers or unique behaviors. The GCC, however, remains the best representation of the network's main dynamics and interconnectedness."
   ]
  },
  {
   "cell_type": "code",
   "execution_count": 9,
   "metadata": {},
   "outputs": [],
   "source": [
    "# get the greatest component and save to file\n",
    "Gcc = sorted(nx.connected_components(G), key=len, reverse=True)\n",
    "G = G.subgraph(Gcc[0])\n",
    "nx.write_gml(G, 'graphs/init_graph.gml')"
   ]
  },
  {
   "cell_type": "code",
   "execution_count": null,
   "metadata": {},
   "outputs": [],
   "source": [
    "# plot the graph\n",
    "nx.draw(G, with_labels=False, node_size=10)\n",
    "# print number of nodes and edges\n",
    "print(f'Number of nodes: {G.number_of_nodes()}')\n",
    "print(f'Number of edges: {G.number_of_edges()}')"
   ]
  },
  {
   "cell_type": "code",
   "execution_count": null,
   "metadata": {},
   "outputs": [
    {
     "data": {
      "text/plain": [
       "array(['---kPU91CF4Lq2-WlRu9Lw', '--FcbSxK1AoEtEAxOgBaCw',\n",
       "       '--MbOh2O1pATkXa7xbU6LA', ..., 'zzbZtgPYZS8sTIWQH6DwEw',\n",
       "       'zzfj1-iPfw0cwnOjY0yUgA', 'zzyx5x0Z7xXWWvWnZFuxlQ'], dtype=object)"
      ]
     },
     "execution_count": 21,
     "metadata": {},
     "output_type": "execute_result"
    }
   ],
   "source": []
  },
  {
   "cell_type": "code",
   "execution_count": 19,
   "metadata": {},
   "outputs": [],
   "source": [
    "# save relevant business data\n",
    "\n",
    "with open('data/yelp_academic_dataset_business.json', 'r') as f:\n",
    "    business_data = pd.DataFrame([json.loads(line) for line in f])\n",
    "\n",
    "business_data = business_data[business_data['business_id'].isin(businesses)]\n",
    "business_data.to_csv('data/businesses_reviewed.csv', index=False)"
   ]
  }
 ],
 "metadata": {
  "kernelspec": {
   "display_name": "Python 3",
   "language": "python",
   "name": "python3"
  },
  "language_info": {
   "codemirror_mode": {
    "name": "ipython",
    "version": 3
   },
   "file_extension": ".py",
   "mimetype": "text/x-python",
   "name": "python",
   "nbconvert_exporter": "python",
   "pygments_lexer": "ipython3",
   "version": "3.8.5"
  }
 },
 "nbformat": 4,
 "nbformat_minor": 2
}
